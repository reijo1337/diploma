{
 "cells": [
  {
   "cell_type": "markdown",
   "metadata": {
    "colab_type": "text",
    "id": "L-Ja7EGZG7jl"
   },
   "source": [
    "# Sign Language Recognition from Hand Gestures using Capsule Networks"
   ]
  },
  {
   "cell_type": "markdown",
   "metadata": {
    "colab_type": "text",
    "id": "r-w-SqyIG7jm"
   },
   "source": [
    "## Implementation Details"
   ]
  },
  {
   "cell_type": "markdown",
   "metadata": {
    "colab_type": "text",
    "id": "KDlTk7toG7jn"
   },
   "source": [
    "1- Keras implementation of CapsNet in Hinton's paper Dynamic Routing Between Capsules.\n",
    "2- Code adapted from https://github.com/XifengGuo/CapsNet-Keras/blob/master/capsulenet.py\n",
    "Author: Xifeng Guo, E-mail: guoxifeng1990@163.com, Github: https://github.com/XifengGuo/CapsNet-Keras\n",
    "3- I benefited from the information on the following site.\n",
    "https://www.kaggle.com/kmader/capsulenet-on-mnist/\n",
    "4- The current version maybe only works for TensorFlow backend. Actually it will be straightforward to re-write to TF code.\n",
    "5- Adopting to other backends should be easy\n",
    "\n",
    "Result: Loss=0.04 after 5 epochs. "
   ]
  },
  {
   "cell_type": "code",
   "execution_count": 1,
   "metadata": {
    "colab": {
     "base_uri": "https://localhost:8080/",
     "height": 496
    },
    "colab_type": "code",
    "executionInfo": {
     "elapsed": 11077,
     "status": "ok",
     "timestamp": 1591619266937,
     "user": {
      "displayName": "Григорий Танцевов",
      "photoUrl": "https://lh3.googleusercontent.com/a-/AOh14GiY72fHLg5AYXzqwOsvSwk6GbJcNY1PkFQ88acKmg=s64",
      "userId": "00673231704768357118"
     },
     "user_tz": -180
    },
    "id": "zG38VfqdG7jo",
    "outputId": "0f8be5ae-40d1-4e1d-9a7a-83d7f6505ff8"
   },
   "outputs": [
    {
     "name": "stderr",
     "output_type": "stream",
     "text": [
      "Using TensorFlow backend.\n",
      "/home/tantsevov/.local/lib/python3.6/site-packages/tensorflow/python/framework/dtypes.py:516: FutureWarning: Passing (type, 1) or '1type' as a synonym of type is deprecated; in a future version of numpy, it will be understood as (type, (1,)) / '(1,)type'.\n",
      "  _np_qint8 = np.dtype([(\"qint8\", np.int8, 1)])\n",
      "/home/tantsevov/.local/lib/python3.6/site-packages/tensorflow/python/framework/dtypes.py:517: FutureWarning: Passing (type, 1) or '1type' as a synonym of type is deprecated; in a future version of numpy, it will be understood as (type, (1,)) / '(1,)type'.\n",
      "  _np_quint8 = np.dtype([(\"quint8\", np.uint8, 1)])\n",
      "/home/tantsevov/.local/lib/python3.6/site-packages/tensorflow/python/framework/dtypes.py:518: FutureWarning: Passing (type, 1) or '1type' as a synonym of type is deprecated; in a future version of numpy, it will be understood as (type, (1,)) / '(1,)type'.\n",
      "  _np_qint16 = np.dtype([(\"qint16\", np.int16, 1)])\n",
      "/home/tantsevov/.local/lib/python3.6/site-packages/tensorflow/python/framework/dtypes.py:519: FutureWarning: Passing (type, 1) or '1type' as a synonym of type is deprecated; in a future version of numpy, it will be understood as (type, (1,)) / '(1,)type'.\n",
      "  _np_quint16 = np.dtype([(\"quint16\", np.uint16, 1)])\n",
      "/home/tantsevov/.local/lib/python3.6/site-packages/tensorflow/python/framework/dtypes.py:520: FutureWarning: Passing (type, 1) or '1type' as a synonym of type is deprecated; in a future version of numpy, it will be understood as (type, (1,)) / '(1,)type'.\n",
      "  _np_qint32 = np.dtype([(\"qint32\", np.int32, 1)])\n",
      "/home/tantsevov/.local/lib/python3.6/site-packages/tensorflow/python/framework/dtypes.py:525: FutureWarning: Passing (type, 1) or '1type' as a synonym of type is deprecated; in a future version of numpy, it will be understood as (type, (1,)) / '(1,)type'.\n",
      "  np_resource = np.dtype([(\"resource\", np.ubyte, 1)])\n",
      "/home/tantsevov/.local/lib/python3.6/site-packages/tensorboard/compat/tensorflow_stub/dtypes.py:541: FutureWarning: Passing (type, 1) or '1type' as a synonym of type is deprecated; in a future version of numpy, it will be understood as (type, (1,)) / '(1,)type'.\n",
      "  _np_qint8 = np.dtype([(\"qint8\", np.int8, 1)])\n",
      "/home/tantsevov/.local/lib/python3.6/site-packages/tensorboard/compat/tensorflow_stub/dtypes.py:542: FutureWarning: Passing (type, 1) or '1type' as a synonym of type is deprecated; in a future version of numpy, it will be understood as (type, (1,)) / '(1,)type'.\n",
      "  _np_quint8 = np.dtype([(\"quint8\", np.uint8, 1)])\n",
      "/home/tantsevov/.local/lib/python3.6/site-packages/tensorboard/compat/tensorflow_stub/dtypes.py:543: FutureWarning: Passing (type, 1) or '1type' as a synonym of type is deprecated; in a future version of numpy, it will be understood as (type, (1,)) / '(1,)type'.\n",
      "  _np_qint16 = np.dtype([(\"qint16\", np.int16, 1)])\n",
      "/home/tantsevov/.local/lib/python3.6/site-packages/tensorboard/compat/tensorflow_stub/dtypes.py:544: FutureWarning: Passing (type, 1) or '1type' as a synonym of type is deprecated; in a future version of numpy, it will be understood as (type, (1,)) / '(1,)type'.\n",
      "  _np_quint16 = np.dtype([(\"quint16\", np.uint16, 1)])\n",
      "/home/tantsevov/.local/lib/python3.6/site-packages/tensorboard/compat/tensorflow_stub/dtypes.py:545: FutureWarning: Passing (type, 1) or '1type' as a synonym of type is deprecated; in a future version of numpy, it will be understood as (type, (1,)) / '(1,)type'.\n",
      "  _np_qint32 = np.dtype([(\"qint32\", np.int32, 1)])\n",
      "/home/tantsevov/.local/lib/python3.6/site-packages/tensorboard/compat/tensorflow_stub/dtypes.py:550: FutureWarning: Passing (type, 1) or '1type' as a synonym of type is deprecated; in a future version of numpy, it will be understood as (type, (1,)) / '(1,)type'.\n",
      "  np_resource = np.dtype([(\"resource\", np.ubyte, 1)])\n"
     ]
    }
   ],
   "source": [
    "import numpy as np\n",
    "import os\n",
    "import pandas as pd\n",
    "from keras.preprocessing.image import ImageDataGenerator\n",
    "from keras import callbacks\n",
    "from keras.utils.vis_utils import plot_model\n",
    "import matplotlib.pyplot as plt\n",
    "import seaborn as sns"
   ]
  },
  {
   "cell_type": "markdown",
   "metadata": {
    "colab_type": "text",
    "id": "5fD57w8ZG7jt"
   },
   "source": [
    "## Data Preprocessing"
   ]
  },
  {
   "cell_type": "markdown",
   "metadata": {
    "colab_type": "text",
    "id": "3IwQlLx5G7ju"
   },
   "source": [
    "The Sign Language MNIST dataset has images of hand gestures each representing one of the 24 alphabets."
   ]
  },
  {
   "cell_type": "code",
   "execution_count": 2,
   "metadata": {
    "colab": {},
    "colab_type": "code",
    "id": "BQhL43ZtG7jv"
   },
   "outputs": [],
   "source": [
    "import cv2\n",
    "import numpy as np\n",
    "\n",
    "\n",
    "def skin_detector(img):\n",
    "    img_HSV = cv2.cvtColor(img, cv2.COLOR_BGR2HSV)\n",
    "    HSV_mask = cv2.inRange(img_HSV, (0, 15, 0), (17, 170, 255))\n",
    "    img_YCrCb = cv2.cvtColor(img, cv2.COLOR_BGR2YCrCb)\n",
    "    YCrCb_mask = cv2.inRange(img_YCrCb, (0, 135, 85), (255, 180, 135))\n",
    "    global_mask = cv2.bitwise_and(YCrCb_mask, HSV_mask)\n",
    "    global_result = cv2.bitwise_not(global_mask)\n",
    "    kernel = np.ones((3, 3), np.uint8)\n",
    "    global_result = cv2.erode(global_result, kernel, iterations=1)\n",
    "    global_result = cv2.dilate(global_result, kernel, iterations=1)\n",
    "    return global_result"
   ]
  },
  {
   "cell_type": "markdown",
   "metadata": {
    "colab_type": "text",
    "id": "TDqB6dP7jgef"
   },
   "source": [
    "## Получение данных RSL без train_test_split"
   ]
  },
  {
   "cell_type": "markdown",
   "metadata": {
    "colab_type": "text",
    "id": "qzzKhRVejsqT"
   },
   "source": [
    "## Получение данных RSL c train_test_split"
   ]
  },
  {
   "cell_type": "code",
   "execution_count": 3,
   "metadata": {
    "colab": {},
    "colab_type": "code",
    "id": "2JFhpMsmAJ2b"
   },
   "outputs": [],
   "source": [
    "from sklearn.model_selection import train_test_split\n",
    "import os\n",
    "import numpy as np\n",
    "from sklearn.preprocessing import LabelBinarizer\n",
    "\n",
    "def proccess_x(imgs):\n",
    "  x, x_orig = [], []\n",
    "  for img in imgs:\n",
    "    proc = skin_detector(img)\n",
    "    proc = cv2.resize(proc, dsize=(60, 60), interpolation=cv2.INTER_CUBIC)\n",
    "    orig = cv2.cvtColor(img, cv2.COLOR_BGR2GRAY)\n",
    "    orig = cv2.resize(orig, dsize=(60, 60), interpolation=cv2.INTER_CUBIC)\n",
    "    x.append(proc)\n",
    "    x_orig.append(orig)\n",
    "  x, x_orig = np.array(x) / 255, np.array(x_orig) / 255\n",
    "  x = x.reshape(x.shape[0], x.shape[1], x.shape[2], 1)\n",
    "  x_orig = x_orig.reshape(x_orig.shape[0], x_orig.shape[1], x_orig.shape[2], 1)\n",
    "  return x, x_orig\n",
    "\n",
    "def get_splitted_dataset():\n",
    "  images = np.load('/home/tantsevov/diploma/data/ASL Finger Spelling Dataset/images_E.npy', allow_pickle=True)\n",
    "  labels = np.load('/home/tantsevov/diploma/data/ASL Finger Spelling Dataset/labels_E.npy', allow_pickle=True)\n",
    "  unique_val = np.unique(labels)\n",
    "\n",
    "  label_binrizer = LabelBinarizer()\n",
    "  labels = label_binrizer.fit_transform(labels)\n",
    "\n",
    "  img_t, img_test, y_t, y_test = train_test_split(images, labels, test_size=0.2)\n",
    "  img_train, img_valid, y_train, y_valid = train_test_split(img_t, y_t, test_size=0.2)\n",
    "\n",
    "  x_train, x_orig_train = proccess_x(img_train)\n",
    "  x_test, x_orig_test = proccess_x(img_test)\n",
    "  x_valid, x_orig_valid = proccess_x(img_valid)\n",
    "  return x_train, x_valid, x_test, x_orig_train, x_orig_valid, x_orig_test, y_train,y_valid, y_test, unique_val"
   ]
  },
  {
   "cell_type": "markdown",
   "metadata": {
    "colab_type": "text",
    "id": "QiMF7Uf8jvAn"
   },
   "source": [
    "## Получение данных RSL"
   ]
  },
  {
   "cell_type": "code",
   "execution_count": 5,
   "metadata": {
    "colab": {
     "base_uri": "https://localhost:8080/",
     "height": 102
    },
    "colab_type": "code",
    "executionInfo": {
     "elapsed": 27206,
     "status": "ok",
     "timestamp": 1591619283090,
     "user": {
      "displayName": "Григорий Танцевов",
      "photoUrl": "https://lh3.googleusercontent.com/a-/AOh14GiY72fHLg5AYXzqwOsvSwk6GbJcNY1PkFQ88acKmg=s64",
      "userId": "00673231704768357118"
     },
     "user_tz": -180
    },
    "id": "AP3Bl6fbDyZ7",
    "outputId": "70957c1e-7833-485d-8513-2fc0c8c0c8cc"
   },
   "outputs": [
    {
     "name": "stdout",
     "output_type": "stream",
     "text": [
      "(8180, 60, 60, 1) (8180, 60, 60, 1)\n",
      "(2045, 60, 60, 1) (2045, 60, 60, 1)\n",
      "(2557, 60, 60, 1) (2557, 60, 60, 1)\n",
      "['a' 'b' 'c' 'd' 'e' 'f' 'g' 'h' 'i' 'k' 'l' 'm' 'n' 'o' 'p' 'q' 'r' 's'\n",
      " 't' 'u' 'v' 'w' 'x' 'y']\n"
     ]
    }
   ],
   "source": [
    "x_train, x_valid, x_test, x_orig_train, x_orig_valid, x_orig_test, y_train, y_valid, y_test, unique_val = get_splitted_dataset()\n",
    "\n",
    "print(x_train.shape, x_orig_train.shape)\n",
    "print(x_valid.shape, x_orig_valid.shape)\n",
    "print(x_test.shape, x_orig_test.shape)\n",
    "print(unique_val)\n",
    "np.save('/home/tantsevov/diploma/data/ASL Finger Spelling Dataset/classes.npy', unique_val)"
   ]
  },
  {
   "cell_type": "code",
   "execution_count": 6,
   "metadata": {
    "colab": {
     "base_uri": "https://localhost:8080/",
     "height": 34
    },
    "colab_type": "code",
    "executionInfo": {
     "elapsed": 27200,
     "status": "ok",
     "timestamp": 1591619283091,
     "user": {
      "displayName": "Григорий Танцевов",
      "photoUrl": "https://lh3.googleusercontent.com/a-/AOh14GiY72fHLg5AYXzqwOsvSwk6GbJcNY1PkFQ88acKmg=s64",
      "userId": "00673231704768357118"
     },
     "user_tz": -180
    },
    "id": "GlmJLGK7s6wZ",
    "outputId": "63bd9cda-19d8-4ade-e582-c3f29c39baeb"
   },
   "outputs": [
    {
     "data": {
      "text/plain": [
       "False"
      ]
     },
     "execution_count": 6,
     "metadata": {},
     "output_type": "execute_result"
    }
   ],
   "source": [
    "np.isnan(x_train).any()"
   ]
  },
  {
   "cell_type": "code",
   "execution_count": 7,
   "metadata": {
    "colab": {
     "base_uri": "https://localhost:8080/",
     "height": 285
    },
    "colab_type": "code",
    "executionInfo": {
     "elapsed": 27193,
     "status": "ok",
     "timestamp": 1591619283091,
     "user": {
      "displayName": "Григорий Танцевов",
      "photoUrl": "https://lh3.googleusercontent.com/a-/AOh14GiY72fHLg5AYXzqwOsvSwk6GbJcNY1PkFQ88acKmg=s64",
      "userId": "00673231704768357118"
     },
     "user_tz": -180
    },
    "id": "cG5Zzr9kgBp2",
    "outputId": "27191ed0-a7a8-4644-cc53-0a93b21e0bde"
   },
   "outputs": [
    {
     "data": {
      "text/plain": [
       "<matplotlib.image.AxesImage at 0x7f74873a9630>"
      ]
     },
     "execution_count": 7,
     "metadata": {},
     "output_type": "execute_result"
    },
    {
     "data": {
      "image/png": "[encoded data removed]",
      "text/plain": [
       "<Figure size 432x288 with 1 Axes>"
      ]
     },
     "metadata": {
      "needs_background": "light"
     },
     "output_type": "display_data"
    }
   ],
   "source": [
    "from matplotlib import pyplot as plt\n",
    "x = x_train[0].copy()\n",
    "x = x.reshape(60, 60)\n",
    "plt.imshow(x)"
   ]
  },
  {
   "cell_type": "code",
   "execution_count": 8,
   "metadata": {
    "colab": {
     "base_uri": "https://localhost:8080/",
     "height": 285
    },
    "colab_type": "code",
    "executionInfo": {
     "elapsed": 27496,
     "status": "ok",
     "timestamp": 1591619283401,
     "user": {
      "displayName": "Григорий Танцевов",
      "photoUrl": "https://lh3.googleusercontent.com/a-/AOh14GiY72fHLg5AYXzqwOsvSwk6GbJcNY1PkFQ88acKmg=s64",
      "userId": "00673231704768357118"
     },
     "user_tz": -180
    },
    "id": "_6eqniafheft",
    "outputId": "14cbe346-0e10-425c-c327-6539531707fb"
   },
   "outputs": [
    {
     "data": {
      "text/plain": [
       "<matplotlib.image.AxesImage at 0x7f74874d0278>"
      ]
     },
     "execution_count": 8,
     "metadata": {},
     "output_type": "execute_result"
    },
    {
     "data": {
      "image/png": "[encoded data removed]",
      "text/plain": [
       "<Figure size 432x288 with 1 Axes>"
      ]
     },
     "metadata": {
      "needs_background": "light"
     },
     "output_type": "display_data"
    }
   ],
   "source": [
    "from matplotlib import pyplot as plt\n",
    "\n",
    "x = x_orig_train[0].copy()\n",
    "x = x.reshape(60, 60)\n",
    "plt.imshow(x)"
   ]
  },
  {
   "cell_type": "markdown",
   "metadata": {
    "colab_type": "text",
    "id": "0AWO1W1VG7kb"
   },
   "source": [
    "## CapsNet Architecture"
   ]
  },
  {
   "cell_type": "markdown",
   "metadata": {
    "colab_type": "text",
    "id": "W0L8GQ27G7kc"
   },
   "source": [
    "### Capsule Layers"
   ]
  },
  {
   "cell_type": "markdown",
   "metadata": {
    "colab_type": "text",
    "id": "MAWP4AXWG7kc"
   },
   "source": [
    "Here is the implementation of the necessary layers for the CapsuleNet. "
   ]
  },
  {
   "cell_type": "code",
   "execution_count": 9,
   "metadata": {
    "colab": {},
    "colab_type": "code",
    "id": "dB1r6SOqG7kd"
   },
   "outputs": [],
   "source": [
    "import keras.backend as K\n",
    "import tensorflow as tf\n",
    "from keras import initializers, layers\n",
    "\n",
    "class Length(layers.Layer):\n",
    "    \"\"\"\n",
    "    Compute the length of vectors. This is used to compute a Tensor that has the same shape with y_true in margin_loss\n",
    "    inputs: shape=[dim_1, ..., dim_{n-1}, dim_n]\n",
    "    output: shape=[dim_1, ..., dim_{n-1}]\n",
    "    \"\"\"\n",
    "    def call(self, inputs, **kwargs):\n",
    "        return K.sqrt(K.sum(K.square(inputs), -1))\n",
    "\n",
    "    def compute_output_shape(self, input_shape):\n",
    "        return input_shape[:-1]\n",
    "\n",
    "class Mask(layers.Layer):\n",
    "    \"\"\"\n",
    "    Mask a Tensor with shape=[None, d1, d2] by the max value in axis=1.\n",
    "    Output shape: [None, d2]\n",
    "    \"\"\"\n",
    "    def call(self, inputs, **kwargs):\n",
    "        # use true label to select target capsule, shape=[batch_size, num_capsule]\n",
    "        if type(inputs) is list:  # true label is provided with shape = [batch_size, n_classes], i.e. one-hot code.\n",
    "            assert len(inputs) == 2\n",
    "            inputs, mask = inputs\n",
    "        else:  # if no true label, mask by the max length of vectors of capsules\n",
    "            x = inputs\n",
    "            # Enlarge the range of values in x to make max(new_x)=1 and others < 0\n",
    "            x = (x - K.max(x, 1, True)) / K.epsilon() + 1\n",
    "            mask = K.clip(x, 0, 1)  # the max value in x clipped to 1 and other to 0\n",
    "\n",
    "        # masked inputs, shape = [batch_size, dim_vector]\n",
    "        inputs_masked = K.batch_dot(inputs, mask, [1, 1])\n",
    "        return inputs_masked\n",
    "\n",
    "    def compute_output_shape(self, input_shape):\n",
    "        if type(input_shape[0]) is tuple:  # true label provided\n",
    "            return tuple([None, input_shape[0][-1]])\n",
    "        else:\n",
    "            return tuple([None, input_shape[-1]])\n",
    "\n",
    "\n",
    "def squash(vectors, axis=-1):\n",
    "    \"\"\", The non-linear activation used in Capsule. It drives the length of a large vector to near 1 and small vector to 0\n",
    "    :param vectors: some vectors to be squashed, N-dim tensor\n",
    "    :param axis: the axis to squash\n",
    "    :return: a Tensor with same shape as input vectors\n",
    "    \"\"\"\n",
    "    s_squared_norm = K.sum(K.square(vectors), axis, keepdims=True)\n",
    "    scale = s_squared_norm / (1 + s_squared_norm) / K.sqrt(s_squared_norm)\n",
    "    return scale * vectors\n",
    "\n",
    "\n",
    "class CapsuleLayer(layers.Layer):\n",
    "    \"\"\"\n",
    "    The capsule layer. It is similar to Dense layer. Dense layer has `in_num` inputs, each is a scalar, the output of the \n",
    "    neuron from the former layer, and it has `out_num` output neurons. CapsuleLayer just expand the output of the neuron\n",
    "    from scalar to vector. So its input shape = [None, input_num_capsule, input_dim_vector] and output shape = \\\n",
    "    [None, num_capsule, dim_vector]. For Dense Layer, input_dim_vector = dim_vector = 1.\n",
    "    \n",
    "    :param num_capsule: number of capsules in this layer\n",
    "    :param dim_vector: dimension of the output vectors of the capsules in this layer\n",
    "    :param num_routings: number of iterations for the routing algorithm\n",
    "    \"\"\"\n",
    "    def __init__(self, num_capsule, dim_vector, num_routing=3,\n",
    "                 kernel_initializer='glorot_uniform',\n",
    "                 bias_initializer='zeros',\n",
    "                 **kwargs):\n",
    "        super(CapsuleLayer, self).__init__(**kwargs)\n",
    "        self.num_capsule = num_capsule\n",
    "        self.dim_vector = dim_vector\n",
    "        self.num_routing = num_routing\n",
    "        self.kernel_initializer = initializers.get(kernel_initializer)\n",
    "        self.bias_initializer = initializers.get(bias_initializer)\n",
    "\n",
    "    def build(self, input_shape):\n",
    "        assert len(input_shape) >= 3, \"The input Tensor should have shape=[None, input_num_capsule, input_dim_vector]\"\n",
    "        self.input_num_capsule = input_shape[1]\n",
    "        self.input_dim_vector = input_shape[2]\n",
    "\n",
    "        # Transform matrix\n",
    "        self.W = self.add_weight(shape=[self.input_num_capsule, self.num_capsule, self.input_dim_vector, self.dim_vector],\n",
    "                                 initializer=self.kernel_initializer,\n",
    "                                 name='W')\n",
    "        # Coupling coefficient. The redundant dimensions are just to facilitate subsequent matrix calculation.\n",
    "        self.bias = self.add_weight(shape=[1, self.input_num_capsule, self.num_capsule, 1, 1],\n",
    "                                    initializer=self.bias_initializer,\n",
    "                                    name='bias',\n",
    "                                    trainable=False)\n",
    "        self.built = True\n",
    "\n",
    "    def call(self, inputs, training=None):\n",
    "        # inputs.shape=[None, input_num_capsule, input_dim_vector]\n",
    "        # Expand dims to [None, input_num_capsule, 1, 1, input_dim_vector]\n",
    "        inputs_expand = K.expand_dims(K.expand_dims(inputs, 2), 2)\n",
    "\n",
    "        # Replicate num_capsule dimension to prepare being multiplied by W\n",
    "        # Now it has shape = [None, input_num_capsule, num_capsule, 1, input_dim_vector]\n",
    "        inputs_tiled = K.tile(inputs_expand, [1, 1, self.num_capsule, 1, 1])\n",
    "\n",
    "        \"\"\"  \n",
    "        # Compute `inputs * W` by expanding the first dim of W. More time-consuming and need batch_size.\n",
    "        # Now W has shape  = [batch_size, input_num_capsule, num_capsule, input_dim_vector, dim_vector]\n",
    "        w_tiled = K.tile(K.expand_dims(self.W, 0), [self.batch_size, 1, 1, 1, 1])\n",
    "        \n",
    "        # Transformed vectors, inputs_hat.shape = [None, input_num_capsule, num_capsule, 1, dim_vector]\n",
    "        inputs_hat = K.batch_dot(inputs_tiled, w_tiled, [4, 3])\n",
    "        \"\"\"\n",
    "        # Compute `inputs * W` by scanning inputs_tiled on dimension 0. This is faster but requires Tensorflow.\n",
    "        # inputs_hat.shape = [None, input_num_capsule, num_capsule, 1, dim_vector]\n",
    "        inputs_hat = tf.scan(lambda ac, x: K.batch_dot(x, self.W, [3, 2]),\n",
    "                             elems=inputs_tiled,\n",
    "                             initializer=K.zeros([self.input_num_capsule, self.num_capsule, 1, self.dim_vector]))\n",
    "        \"\"\"\n",
    "        # Routing algorithm V1. Use tf.while_loop in a dynamic way.\n",
    "        def body(i, b, outputs):\n",
    "        \n",
    "        c = tf.nn.softmax(self.bias, dim=2)  # dim=2 is the num_capsule dimension\n",
    "            outputs = squash(K.sum(c * inputs_hat, 1, keepdims=True))\n",
    "            b = b + K.sum(inputs_hat * outputs, -1, keepdims=True)\n",
    "            return [i-1, b, outputs]\n",
    "\n",
    "        cond = lambda i, b, inputs_hat: i > 0\n",
    "        loop_vars = [K.constant(self.num_routing), self.bias, K.sum(inputs_hat, 1, keepdims=True)]\n",
    "        _, _, outputs = tf.while_loop(cond, body, loop_vars)\n",
    "        \"\"\"\n",
    "        # Routing algorithm V2. Use iteration. V2 and V1 both work without much difference on performance\n",
    "        assert self.num_routing > 0, 'The num_routing should be > 0.'\n",
    "        for i in range(self.num_routing):\n",
    "            c = tf.nn.softmax(self.bias, dim=2)  # dim=2 is the num_capsule dimension\n",
    "            # outputs.shape=[None, 1, num_capsule, 1, dim_vector]\n",
    "            outputs = squash(K.sum(c * inputs_hat, 1, keepdims=True))\n",
    "# last iteration needs not compute bias which will not be passed to the graph any more anyway.\n",
    "            if i != self.num_routing - 1:\n",
    "                # self.bias = K.update_add(self.bias, K.sum(inputs_hat * outputs, [0, -1], keepdims=True))\n",
    "                self.bias += K.sum(inputs_hat * outputs, -1, keepdims=True)\n",
    "            # tf.summary.histogram('BigBee', self.bias)  # for debugging\n",
    "        return K.reshape(outputs, [-1, self.num_capsule, self.dim_vector])\n",
    "\n",
    "    def compute_output_shape(self, input_shape):\n",
    "        return tuple([None, self.num_capsule, self.dim_vector])\n",
    "\n",
    "\n",
    "def PrimaryCap(inputs, dim_vector, n_channels, kernel_size, strides, padding):\n",
    "    \"\"\"\n",
    "    Apply Conv2D `n_channels` times and concatenate all capsules\n",
    "    :param inputs: 4D tensor, shape=[None, width, height, channels]\n",
    "    :param dim_vector: the dim of the output vector of capsule\n",
    "    :param n_channels: the number of types of capsules\n",
    "    :return: output tensor, shape=[None, num_capsule, dim_vector]\n",
    "    \"\"\"\n",
    "    output = layers.Conv2D(filters=dim_vector*n_channels, kernel_size=kernel_size, strides=strides, padding=padding)(inputs)\n",
    "    outputs = layers.Reshape(target_shape=[-1, dim_vector])(output)\n",
    "    return layers.Lambda(squash)(outputs)\n"
   ]
  },
  {
   "cell_type": "markdown",
   "metadata": {
    "colab_type": "text",
    "id": "7fKehFUwG7kg"
   },
   "source": [
    "### Build the Model"
   ]
  },
  {
   "cell_type": "markdown",
   "metadata": {
    "colab_type": "text",
    "id": "U68Cceg0G7kg"
   },
   "source": [
    "Here we use the layers to build up the model. The model is a bit different from a standard  X→y  model, it is  (X,y)→(y,X)  meaning it attempts to predict the class from the image, and then at the same time, using the same capsule reconstruct the image from the class. The approach appears very cGAN-like where the task of reconstructing better helps the model 'understand' the image data better."
   ]
  },
  {
   "cell_type": "code",
   "execution_count": 10,
   "metadata": {
    "colab": {},
    "colab_type": "code",
    "id": "5Y4yYvCaG7kh"
   },
   "outputs": [],
   "source": [
    "from keras import layers, models\n",
    "from keras import backend as K\n",
    "from keras.utils import to_categorical\n",
    "\n",
    "\n",
    "def CapsNet(input_shape, n_class, num_routing):\n",
    "    \"\"\"\n",
    "    A Capsule Network on MNIST.\n",
    "    :param input_shape: data shape, 4d, [None, width, height, channels]\n",
    "    :param n_class: number of classes\n",
    "    :param num_routing: number of routing iterations\n",
    "    :return: A Keras Model with 2 inputs and 2 outputs\n",
    "    \"\"\"\n",
    "    x = layers.Input(shape=input_shape, name=\"image\")\n",
    "\n",
    "    # Layer 1: Just a conventional Conv2D layer\n",
    "    conv5 = layers.Conv2D(filters=256, kernel_size=9, strides=1, padding='valid', activation='relu', name='conv')(x)\n",
    "\n",
    "    # Layer 2: Conv2D layer with `squash` activation, then reshape to [None, num_capsule, dim_vector]\n",
    "    primarycaps = PrimaryCap(conv5, dim_vector=8, n_channels=32, kernel_size=9, strides=2, padding='valid')\n",
    "\n",
    "    # Layer 3: Capsule layer. Routing algorithm works here.\n",
    "    digitcaps1 = CapsuleLayer(num_capsule=n_class, dim_vector=16, num_routing=num_routing, name='digitcaps')(primarycaps)\n",
    "\n",
    "    # Layer 4: This is an auxiliary layer to replace each capsule with its length. Just to match the true label's shape.\n",
    "    # If using tensorflow, this will not be necessary. :)\n",
    "    out_caps = Length(name='out')(digitcaps1)\n",
    "\n",
    "    # Decoder network.\n",
    "    #y = layers.Input(shape=(n_class,))\n",
    "    #masked = Mask()([digitcaps, y])  # The true label is used to mask the output of capsule layer.\n",
    "    #x_recon = layers.Dense(512, activation='relu')(masked)\n",
    "    #x_recon = layers.Dense(1024, activation='relu')(x_recon)\n",
    "    #x_recon = layers.Dense(input_shape[0] * input_shape[1], activation='sigmoid')(x_recon)\n",
    "    #x_recon = layers.Reshape(target_shape=input_shape, name='out_recon')(x_recon)\n",
    "\n",
    "    # two-input-two-output keras Model\n",
    "    return models.Model(x, out_caps)"
   ]
  },
  {
   "cell_type": "code",
   "execution_count": 11,
   "metadata": {
    "colab": {},
    "colab_type": "code",
    "id": "oI-s00jUG7kl"
   },
   "outputs": [],
   "source": [
    "def margin_loss(y_true, y_pred):\n",
    "    \"\"\"\n",
    "    Margin loss for Eq.(4). When y_true[i, :] contains not just one `1`, this loss should work too. Not test it.\n",
    "    :param y_true: [None, n_classes]\n",
    "    :param y_pred: [None, num_capsule]\n",
    "    :return: a scalar loss value.\n",
    "    \"\"\"\n",
    "    L = y_true * K.square(K.maximum(0., 0.9 - y_pred)) + \\\n",
    "        0.5 * (1 - y_true) * K.square(K.maximum(0., y_pred - 0.1))\n",
    "    return K.mean(K.sum(L, 1))"
   ]
  },
  {
   "cell_type": "markdown",
   "metadata": {
    "colab_type": "text",
    "id": "e9n0GCHbG7ku"
   },
   "source": [
    "### Training"
   ]
  },
  {
   "cell_type": "code",
   "execution_count": 14,
   "metadata": {
    "colab": {},
    "colab_type": "code",
    "id": "BRu3DhcuG7ku"
   },
   "outputs": [],
   "source": [
    "def train(data, n_class, t, epochs=10, epoch_size_frac=1.0, num_routing=3):\n",
    "    print(f'training {t} {num_routing}')\n",
    "    import os\n",
    "    if not os.path.exists(f'/home/tantsevov/diploma/data/ASL Finger Spelling Dataset/{t}/{num_routing}'):\n",
    "        os.makedirs(f'/home/tantsevov/diploma/data/ASL Finger Spelling Dataset/{t}/{num_routing}')\n",
    "    (x_train, y_train), (x_test, y_test) = data\n",
    "    model = CapsNet(input_shape=x_train.shape[1:], n_class=n_class, num_routing=num_routing)\n",
    "    # callbacks\n",
    "    log = callbacks.CSVLogger(f'/home/tantsevov/diploma/data/ASL Finger Spelling Dataset/{t}/{num_routing}/log.csv')\n",
    "    lr_decay = callbacks.LearningRateScheduler(schedule=lambda epoch: 0.001 * np.exp(-epoch / 10.))\n",
    "    checkpoint = callbacks.ModelCheckpoint(f'/home/tantsevov/diploma/data/ASL Finger Spelling Dataset/{t}/{num_routing}/best_model.h5', monitor='loss', verbose=1, save_best_only=True, mode='auto', period=1)\n",
    "    # compile the model\n",
    "    model.compile(optimizer='adam',\n",
    "                  loss=margin_loss,\n",
    "                  metrics={'out': 'accuracy'})\n",
    "\n",
    "    \"\"\"\n",
    "    # Training without data augmentation:\n",
    "    model.fit([x_train, y_train], [y_train, x_train], batch_size=args.batch_size, epochs=args.epochs,\n",
    "              validation_data=[[x_test, y_test], [y_test, x_test]], callbacks=[log, tb, checkpoint])\n",
    "    \"\"\"\n",
    "\n",
    "    # -----------------------------------Begin: Training with data augmentation -----------------------------------#\n",
    "    def train_generator(x, y, batch_size, shift_fraction=0.):\n",
    "        train_datagen = ImageDataGenerator(width_shift_range=shift_fraction,\n",
    "                                           height_shift_range=shift_fraction)  # shift up to 2 pixel for MNIST\n",
    "        generator = train_datagen.flow(x, y, batch_size=batch_size)\n",
    "        while 1:\n",
    "            x_batch, y_batch = generator.next()\n",
    "            yield (x_batch, y_batch)\n",
    "\n",
    "    # Training with data augmentation. If shift_fraction=0., also no augmentation.\n",
    "\n",
    "    model.fit_generator(generator=train_generator(x_train, y_train, 10, 0.),\n",
    "                        steps_per_epoch=int(epoch_size_frac*y_train.shape[0] / 10),\n",
    "                        epochs=epochs,\n",
    "                        validation_data=[x_test, y_test],\n",
    "                        callbacks=[log, lr_decay])\n",
    "    # -----------------------------------End: Training with data augmentation -----------------------------------#\n",
    "\n",
    "    model.save(f'/home/tantsevov/diploma/data/ASL Finger Spelling Dataset/{t}/{num_routing}/trained_model.h5')\n",
    "    print('Trained model saved to \\'trained_model.h5\\'')\n",
    "    return model"
   ]
  },
  {
   "cell_type": "code",
   "execution_count": null,
   "metadata": {
    "colab": {
     "base_uri": "https://localhost:8080/",
     "height": 564
    },
    "colab_type": "code",
    "id": "wA9YE52VG7kx",
    "outputId": "ad5f96df-2034-4a0d-d165-c273627d89db"
   },
   "outputs": [
    {
     "name": "stdout",
     "output_type": "stream",
     "text": [
      "training processed 2\n",
      "WARNING:tensorflow:From /usr/local/lib/python3.6/dist-packages/keras/optimizers.py:711: The name tf.train.Optimizer is deprecated. Please use tf.compat.v1.train.Optimizer instead.\n",
      "\n",
      "WARNING:tensorflow:From /home/tantsevov/.local/lib/python3.6/site-packages/tensorflow/python/ops/math_grad.py:1250: add_dispatch_support.<locals>.wrapper (from tensorflow.python.ops.array_ops) is deprecated and will be removed in a future version.\n",
      "Instructions for updating:\n",
      "Use tf.where in 2.0, which has the same broadcast rule as np.where\n",
      "WARNING:tensorflow:From /usr/local/lib/python3.6/dist-packages/keras/backend/tensorflow_backend.py:949: The name tf.assign_add is deprecated. Please use tf.compat.v1.assign_add instead.\n",
      "\n",
      "WARNING:tensorflow:From /usr/local/lib/python3.6/dist-packages/keras/backend/tensorflow_backend.py:936: The name tf.assign is deprecated. Please use tf.compat.v1.assign instead.\n",
      "\n",
      "Epoch 1/15\n",
      "817/818 [============================>.] - ETA: 3s - loss: 0.4749 - acc: 0.4902"
     ]
    }
   ],
   "source": [
    "model_proc_2 = train(data=((x_train, y_train), (x_valid, y_valid)), n_class=len(unique_val), num_routing=2, t=\"processed\", epochs=15)\n",
    "model_proc_3 = train(data=((x_train, y_train), (x_valid, y_valid)), n_class=len(unique_val), num_routing=3, t=\"processed\", epochs=15)\n",
    "model_proc_4 = train(data=((x_train, y_train), (x_valid, y_valid)), n_class=len(unique_val), num_routing=4, t=\"processed\", epochs=15)\n",
    "model_proc_5 = train(data=((x_train, y_train), (x_valid, y_valid)), n_class=len(unique_val), num_routing=5, t=\"processed\", epochs=15)\n",
    "model_proc_6 = train(data=((x_train, y_train), (x_valid, y_valid)), n_class=len(unique_val), num_routing=6, t=\"processed\", epochs=15)\n",
    "model_proc_7 = train(data=((x_train, y_train), (x_valid, y_valid)), n_class=len(unique_val), num_routing=7, t=\"processed\", epochs=15)\n",
    "\n",
    "model_orig_2 = train(data=((x_orig_train, y_train), (x_orig_valid, y_valid)), n_class=len(unique_val), num_routing=2, t=\"original\", epochs=30)\n",
    "model_orig_3 = train(data=((x_orig_train, y_train), (x_orig_valid, y_valid)), n_class=len(unique_val), num_routing=3, t=\"original\", epochs=30)\n",
    "model_orig_4 = train(data=((x_orig_train, y_train), (x_orig_valid, y_valid)), n_class=len(unique_val), num_routing=4, t=\"original\", epochs=30)\n",
    "model_orig_5 = train(data=((x_orig_train, y_train), (x_orig_valid, y_valid)), n_class=len(unique_val), num_routing=5, t=\"original\", epochs=30)\n",
    "model_orig_6 = train(data=((x_orig_train, y_train), (x_orig_valid, y_valid)), n_class=len(unique_val), num_routing=6, t=\"original\", epochs=30)\n",
    "model_orig_7 = train(data=((x_orig_train, y_train), (x_orig_valid, y_valid)), n_class=len(unique_val), num_routing=7, t=\"original\", epochs=30)"
   ]
  },
  {
   "cell_type": "code",
   "execution_count": 0,
   "metadata": {
    "colab": {},
    "colab_type": "code",
    "id": "tC7w0c3ZG7k0"
   },
   "outputs": [],
   "source": [
    "def test(model, data, t, num):\n",
    "    x_test, y_test = data\n",
    "    y_pred = model.predict(x_test, batch_size=100)\n",
    "    print(y_pred)\n",
    "    b = np.zeros_like(y_pred)\n",
    "    b[np.arange(len(y_pred)), y_pred.argmax(1)] = 1\n",
    "    y_pred = np.around(b).astype(np.int)\n",
    "    acc = np.sum(np.argmax(y_pred, 1) == np.argmax(y_test, 1))/y_test.shape[0]\n",
    "    print('-'*50)\n",
    "    print(f'Test acc {t} {num}: {acc}')\n",
    "    with open(f'/home/tantsevov/diploma/data/ASL Finger Spelling Dataset/{t}/{num}/acc','w') as fi:\n",
    "        fi.write(f\"{acc}\")"
   ]
  },
  {
   "cell_type": "markdown",
   "metadata": {
    "colab_type": "text",
    "id": "8q8sS0S_G7k2"
   },
   "source": [
    "### Show the results on the hold-out"
   ]
  },
  {
   "cell_type": "code",
   "execution_count": 0,
   "metadata": {
    "colab": {},
    "colab_type": "code",
    "id": "drKSXKkwG7k3"
   },
   "outputs": [],
   "source": [
    "test(model=model_proc_2, data=(x_test, y_test), t=\"processed\", num=2)\n",
    "test(model=model_proc_3, data=(x_test, y_test), t=\"processed\", num=3)\n",
    "test(model=model_proc_4, data=(x_test, y_test), t=\"processed\", num=4)\n",
    "test(model=model_proc_5, data=(x_test, y_test), t=\"processed\", num=5)\n",
    "test(model=model_proc_6, data=(x_test, y_test), t=\"processed\", num=6)\n",
    "test(model=model_proc_7, data=(x_test, y_test), t=\"processed\", num=7)\n",
    "\n",
    "test(model=model_orig_2, data=(x_orig_test, y_test), t=\"original\", num=2)\n",
    "test(model=model_orig_3, data=(x_orig_test, y_test), t=\"original\", num=3)\n",
    "test(model=model_orig_4, data=(x_orig_test, y_test), t=\"original\", num=4)\n",
    "test(model=model_orig_5, data=(x_orig_test, y_test), t=\"original\", num=5)\n",
    "test(model=model_orig_6, data=(x_orig_test, y_test), t=\"original\", num=6)\n",
    "test(model=model_orig_7, data=(x_orig_test, y_test), t=\"original\", num=7)"
   ]
  }
 ],
 "metadata": {
  "accelerator": "GPU",
  "colab": {
   "collapsed_sections": [],
   "machine_shape": "hm",
   "name": "asl-gestures.ipynb",
   "provenance": [
    {
     "file_id": "1a1D9paw8i8DjK8mxWbydLKw7tRklumwd",
     "timestamp": 1591282822192
    },
    {
     "file_id": "1MzkxUfjmRfaIjK32H7HhDOcKELExXzz_",
     "timestamp": 1588077201828
    },
    {
     "file_id": "1ZZRbpEcRT5W5IJVBglXNTqvxEhGH7ZqH",
     "timestamp": 1587537322408
    }
   ]
  },
  "kernelspec": {
   "display_name": "Python 3",
   "language": "python",
   "name": "python3"
  },
  "language_info": {
   "codemirror_mode": {
    "name": "ipython",
    "version": 3
   },
   "file_extension": ".py",
   "mimetype": "text/x-python",
   "name": "python",
   "nbconvert_exporter": "python",
   "pygments_lexer": "ipython3",
   "version": "3.6.9"
  }
 },
 "nbformat": 4,
 "nbformat_minor": 1
}
